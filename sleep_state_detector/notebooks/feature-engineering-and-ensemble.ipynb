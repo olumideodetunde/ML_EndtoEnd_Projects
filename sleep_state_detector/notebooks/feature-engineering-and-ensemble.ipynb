{
 "cells": [
  {
   "cell_type": "markdown",
   "id": "cd099875",
   "metadata": {
    "papermill": {
     "duration": 0.006164,
     "end_time": "2023-10-10T08:34:17.113416",
     "exception": false,
     "start_time": "2023-10-10T08:34:17.107252",
     "status": "completed"
    },
    "tags": []
   },
   "source": [
    "\n",
    "## Importing data"
   ]
  },
  {
   "cell_type": "code",
   "execution_count": 9,
   "id": "80f7ebe0",
   "metadata": {},
   "outputs": [
    {
     "name": "stdout",
     "output_type": "stream",
     "text": [
      "/Users/olumide/Documents/Self Improvement - ML/MLapps/ML_EndtoEnd_Projects/sleep_state_detector\n"
     ]
    }
   ],
   "source": [
    "cd .."
   ]
  },
  {
   "cell_type": "code",
   "execution_count": 2,
   "id": "4f9a430d",
   "metadata": {
    "execution": {
     "iopub.execute_input": "2023-10-10T08:34:17.126373Z",
     "iopub.status.busy": "2023-10-10T08:34:17.125742Z",
     "iopub.status.idle": "2023-10-10T08:34:20.560555Z",
     "shell.execute_reply": "2023-10-10T08:34:20.559574Z"
    },
    "papermill": {
     "duration": 3.443157,
     "end_time": "2023-10-10T08:34:20.562682",
     "exception": false,
     "start_time": "2023-10-10T08:34:17.119525",
     "status": "completed"
    },
    "tags": []
   },
   "outputs": [],
   "source": [
    "import numpy as np\n",
    "import pandas as pd\n",
    "from itertools import groupby\n",
    "from sklearn.model_selection import train_test_split\n",
    "from pandas.api.types import is_datetime64_ns_dtype\n",
    "\n",
    "from sklearn.ensemble import RandomForestClassifier\n",
    "from sklearn.ensemble import GradientBoostingClassifier\n",
    "# import lightgbm as lgb\n",
    "# from imblearn.under_sampling import RandomUnderSampler\n",
    "from joblib import Parallel, delayed\n",
    "# import gc\n",
    "# import plotly.express as px\n",
    "\n",
    "import warnings\n",
    "warnings.filterwarnings(\"ignore\")\n",
    "\n",
    "# from metric import score # Import event detection ap score function\n",
    "\n",
    "# These are variables to be used by the score function\n",
    "column_names = {\n",
    "    'series_id_column_name': 'series_id',\n",
    "    'time_column_name': 'step',\n",
    "    'event_column_name': 'event',\n",
    "    'score_column_name': 'score',\n",
    "}\n",
    "\n",
    "tolerances = {\n",
    "    'onset': [12, 36, 60, 90, 120, 150, 180, 240, 300, 360], \n",
    "    'wakeup': [12, 36, 60, 90, 120, 150, 180, 240, 300, 360]\n",
    "}"
   ]
  },
  {
   "cell_type": "code",
   "execution_count": 3,
   "id": "5bea3ded",
   "metadata": {
    "execution": {
     "iopub.execute_input": "2023-10-10T08:34:20.574715Z",
     "iopub.status.busy": "2023-10-10T08:34:20.573931Z",
     "iopub.status.idle": "2023-10-10T08:34:20.580899Z",
     "shell.execute_reply": "2023-10-10T08:34:20.580294Z"
    },
    "papermill": {
     "duration": 0.014816,
     "end_time": "2023-10-10T08:34:20.582571",
     "exception": false,
     "start_time": "2023-10-10T08:34:20.567755",
     "status": "completed"
    },
    "tags": []
   },
   "outputs": [],
   "source": [
    "def reduce_mem_usage(df):\n",
    "    \n",
    "    \"\"\" \n",
    "    Iterate through all numeric columns of a dataframe and modify the data type\n",
    "    to reduce memory usage.        \n",
    "    \"\"\"\n",
    "    \n",
    "    for col in df.columns:\n",
    "        col_type = df[col].dtype\n",
    "\n",
    "        if col_type != object and not is_datetime64_ns_dtype(df[col]) and not 'category':\n",
    "            c_min = df[col].min()\n",
    "            c_max = df[col].max()\n",
    "            if str(col_type)[:3] == 'int':\n",
    "                if c_min > np.iinfo(np.int8).min and c_max < np.iinfo(np.int8).max:\n",
    "                    df[col] = df[col].astype(np.int8)\n",
    "                elif c_min > np.iinfo(np.int16).min and c_max < np.iinfo(np.int16).max:\n",
    "                    df[col] = df[col].astype(np.int16)\n",
    "                elif c_min > np.iinfo(np.int32).min and c_max < np.iinfo(np.int32).max:\n",
    "                    df[col] = df[col].astype(np.int32)\n",
    "                elif c_min > np.iinfo(np.int64).min and c_max < np.iinfo(np.int64).max:\n",
    "                    df[col] = df[col].astype(np.int32)  \n",
    "            else:\n",
    "                df[col] = df[col].astype(np.float16)\n",
    "        \n",
    "    return df"
   ]
  },
  {
   "cell_type": "code",
   "execution_count": 4,
   "id": "365ffb61",
   "metadata": {
    "execution": {
     "iopub.execute_input": "2023-10-10T08:34:20.592981Z",
     "iopub.status.busy": "2023-10-10T08:34:20.592696Z",
     "iopub.status.idle": "2023-10-10T08:34:20.603303Z",
     "shell.execute_reply": "2023-10-10T08:34:20.602661Z"
    },
    "papermill": {
     "duration": 0.017865,
     "end_time": "2023-10-10T08:34:20.604973",
     "exception": false,
     "start_time": "2023-10-10T08:34:20.587108",
     "status": "completed"
    },
    "tags": []
   },
   "outputs": [],
   "source": [
    "def feat_eng(df):\n",
    "    \n",
    "    df['series_id'] = df['series_id'].astype('category')\n",
    "    df['timestamp'] = pd.to_datetime(df['timestamp']).apply(lambda t: t.tz_localize(None))\n",
    "    df['hour'] = df[\"timestamp\"].dt.hour\n",
    "    \n",
    "    df.sort_values(['timestamp'], inplace=True)\n",
    "    df.set_index('timestamp', inplace=True)\n",
    "    \n",
    "    df['lids'] = np.maximum(0., df['enmo'] - 0.02)\n",
    "    df['lids'] = df['lids'].rolling(f'{120*5}s', center=True, min_periods=1).agg('sum')\n",
    "    df['lids'] = 100 / (df['lids'] + 1)\n",
    "    df['lids'] = df['lids'].rolling(f'{360*5}s', center=True, min_periods=1).agg('mean').astype(np.float32)\n",
    "    \n",
    "    df[\"enmo\"] = (df[\"enmo\"]*1000).astype(np.int16)\n",
    "    df[\"anglez\"] = df[\"anglez\"].astype(np.int16)\n",
    "    df[\"anglezdiffabs\"] = df[\"anglez\"].diff().abs().astype(np.float32)\n",
    "    \n",
    "    for col in ['enmo', 'anglez', 'anglezdiffabs']:\n",
    "        \n",
    "        # periods in seconds        \n",
    "        periods = [60, 360,720] \n",
    "        \n",
    "        for n in periods:\n",
    "            \n",
    "            rol_args = {'window':f'{n+5}s', 'min_periods':10, 'center':True}\n",
    "            \n",
    "            for agg in ['median', 'mean', 'max', 'min', 'var']:\n",
    "                df[f'{col}_{agg}_{n}'] = df[col].rolling(**rol_args).agg(agg).astype(np.float32).values\n",
    "                gc.collect()\n",
    "            \n",
    "            if n == max(periods):\n",
    "                df[f'{col}_mad_{n}'] = (df[col] - df[f'{col}_median_{n}']).abs().rolling(**rol_args).median().astype(np.float32)\n",
    "            \n",
    "            df[f'{col}_amplit_{n}'] = df[f'{col}_max_{n}']-df[f'{col}_min_{n}']\n",
    "            df[f'{col}_amplit_{n}_min'] = df[f'{col}_amplit_{n}'].rolling(**rol_args).min().astype(np.float32).values\n",
    "            \n",
    "#             if col in ['enmo', 'anglez']:\n",
    "            df[f'{col}_diff_{n}_max'] = df[f'{col}_max_{n}'].diff().abs().rolling(**rol_args).max().astype(np.float32)\n",
    "            df[f'{col}_diff_{n}_mean'] = df[f'{col}_max_{n}'].diff().abs().rolling(**rol_args).mean().astype(np.float32)\n",
    "\n",
    "    \n",
    "            gc.collect()\n",
    "    \n",
    "    df.reset_index(inplace=True)\n",
    "    df.dropna(inplace=True)\n",
    "\n",
    "    return df"
   ]
  },
  {
   "cell_type": "code",
   "execution_count": 5,
   "id": "c0799577",
   "metadata": {
    "execution": {
     "iopub.execute_input": "2023-10-10T08:34:20.616288Z",
     "iopub.status.busy": "2023-10-10T08:34:20.615859Z",
     "iopub.status.idle": "2023-10-10T08:34:20.619837Z",
     "shell.execute_reply": "2023-10-10T08:34:20.619230Z"
    },
    "papermill": {
     "duration": 0.01153,
     "end_time": "2023-10-10T08:34:20.621509",
     "exception": false,
     "start_time": "2023-10-10T08:34:20.609979",
     "status": "completed"
    },
    "tags": []
   },
   "outputs": [],
   "source": [
    "# file = '/kaggle/input/zzzs-lightweight-training-dataset-target/Zzzs_train.parquet'\n",
    "\n",
    "def feat_eng_by_id(idx):\n",
    "    \n",
    "    from warnings import simplefilter \n",
    "    simplefilter(action=\"ignore\", category=pd.errors.PerformanceWarning)\n",
    "    \n",
    "    df  = pd.read_parquet(file, filters=[('series_id','=',idx)])\n",
    "    df['awake'] = df['awake'].astype(np.int8)\n",
    "    df = feat_eng(df)\n",
    "    \n",
    "    return df"
   ]
  },
  {
   "cell_type": "markdown",
   "id": "2c4fb4c4",
   "metadata": {
    "papermill": {
     "duration": 0.004315,
     "end_time": "2023-10-10T08:34:20.630426",
     "exception": false,
     "start_time": "2023-10-10T08:34:20.626111",
     "status": "completed"
    },
    "tags": []
   },
   "source": [
    "### Training and validating "
   ]
  },
  {
   "cell_type": "code",
   "execution_count": 11,
   "id": "98b51754",
   "metadata": {
    "execution": {
     "iopub.execute_input": "2023-10-10T08:34:20.641474Z",
     "iopub.status.busy": "2023-10-10T08:34:20.640947Z",
     "iopub.status.idle": "2023-10-10T08:34:22.653877Z",
     "shell.execute_reply": "2023-10-10T08:34:22.652826Z"
    },
    "papermill": {
     "duration": 2.02069,
     "end_time": "2023-10-10T08:34:22.655951",
     "exception": false,
     "start_time": "2023-10-10T08:34:20.635261",
     "status": "completed"
    },
    "tags": []
   },
   "outputs": [
    {
     "name": "stdout",
     "output_type": "stream",
     "text": [
      "4\n"
     ]
    }
   ],
   "source": [
    "DEV = False\n",
    "file = \"data/train_series.parquet\"\n",
    "series_id  = pd.read_parquet(file, columns=['series_id'])\n",
    "series_id = series_id[:2_000_000]\n",
    "series_id = series_id.series_id.unique()\n",
    "\n",
    "print(len(series_id))\n",
    "\n",
    "if DEV:\n",
    "    series_id = series_id[::10]"
   ]
  },
  {
   "cell_type": "code",
   "execution_count": 6,
   "id": "1ac2c6c3",
   "metadata": {
    "execution": {
     "iopub.execute_input": "2023-10-10T08:34:22.669352Z",
     "iopub.status.busy": "2023-10-10T08:34:22.668754Z",
     "iopub.status.idle": "2023-10-10T08:34:22.673553Z",
     "shell.execute_reply": "2023-10-10T08:34:22.672506Z"
    },
    "papermill": {
     "duration": 0.013756,
     "end_time": "2023-10-10T08:34:22.675302",
     "exception": false,
     "start_time": "2023-10-10T08:34:22.661546",
     "status": "completed"
    },
    "tags": []
   },
   "outputs": [],
   "source": [
    "weird_series = ['31011ade7c0a', 'a596ad0b82aa']\n",
    "\n",
    "series_id = [s for s in series_id if s not in weird_series]"
   ]
  },
  {
   "cell_type": "code",
   "execution_count": 13,
   "id": "bba0cadb",
   "metadata": {
    "execution": {
     "iopub.execute_input": "2023-10-10T08:34:22.686807Z",
     "iopub.status.busy": "2023-10-10T08:34:22.686504Z",
     "iopub.status.idle": "2023-10-10T08:37:28.384650Z",
     "shell.execute_reply": "2023-10-10T08:37:28.383505Z"
    },
    "papermill": {
     "duration": 185.710885,
     "end_time": "2023-10-10T08:37:28.391376",
     "exception": false,
     "start_time": "2023-10-10T08:34:22.680491",
     "status": "completed"
    },
    "tags": []
   },
   "outputs": [
    {
     "ename": "KeyError",
     "evalue": "'awake'",
     "output_type": "error",
     "traceback": [
      "\u001b[0;31m---------------------------------------------------------------------------\u001b[0m",
      "\u001b[0;31m_RemoteTraceback\u001b[0m                          Traceback (most recent call last)",
      "\u001b[0;31m_RemoteTraceback\u001b[0m: \n\"\"\"\nTraceback (most recent call last):\n  File \"/Users/olumide/Documents/Self Improvement - ML/MLapps/ML_EndtoEnd_Projects/sleep_state_detector/.venv/lib/python3.10/site-packages/pandas/core/indexes/base.py\", line 3790, in get_loc\n    return self._engine.get_loc(casted_key)\n  File \"index.pyx\", line 152, in pandas._libs.index.IndexEngine.get_loc\n  File \"index.pyx\", line 181, in pandas._libs.index.IndexEngine.get_loc\n  File \"pandas/_libs/hashtable_class_helper.pxi\", line 7080, in pandas._libs.hashtable.PyObjectHashTable.get_item\n  File \"pandas/_libs/hashtable_class_helper.pxi\", line 7088, in pandas._libs.hashtable.PyObjectHashTable.get_item\nKeyError: 'awake'\n\nThe above exception was the direct cause of the following exception:\n\nTraceback (most recent call last):\n  File \"/Users/olumide/Documents/Self Improvement - ML/MLapps/ML_EndtoEnd_Projects/sleep_state_detector/.venv/lib/python3.10/site-packages/joblib/externals/loky/process_executor.py\", line 463, in _process_worker\n    r = call_item()\n  File \"/Users/olumide/Documents/Self Improvement - ML/MLapps/ML_EndtoEnd_Projects/sleep_state_detector/.venv/lib/python3.10/site-packages/joblib/externals/loky/process_executor.py\", line 291, in __call__\n    return self.fn(*self.args, **self.kwargs)\n  File \"/Users/olumide/Documents/Self Improvement - ML/MLapps/ML_EndtoEnd_Projects/sleep_state_detector/.venv/lib/python3.10/site-packages/joblib/parallel.py\", line 589, in __call__\n    return [func(*args, **kwargs)\n  File \"/Users/olumide/Documents/Self Improvement - ML/MLapps/ML_EndtoEnd_Projects/sleep_state_detector/.venv/lib/python3.10/site-packages/joblib/parallel.py\", line 589, in <listcomp>\n    return [func(*args, **kwargs)\n  File \"/var/folders/1t/7mfrmh2s0r17tk3yntzzmsjw0000gn/T/ipykernel_30220/2992542068.py\", line 9, in feat_eng_by_id\n  File \"/Users/olumide/Documents/Self Improvement - ML/MLapps/ML_EndtoEnd_Projects/sleep_state_detector/.venv/lib/python3.10/site-packages/pandas/core/frame.py\", line 3896, in __getitem__\n    indexer = self.columns.get_loc(key)\n  File \"/Users/olumide/Documents/Self Improvement - ML/MLapps/ML_EndtoEnd_Projects/sleep_state_detector/.venv/lib/python3.10/site-packages/pandas/core/indexes/base.py\", line 3797, in get_loc\n    raise KeyError(key) from err\nKeyError: 'awake'\n\"\"\"",
      "\nThe above exception was the direct cause of the following exception:\n",
      "\u001b[0;31mKeyError\u001b[0m                                  Traceback (most recent call last)",
      "File \u001b[0;32m<timed exec>:1\u001b[0m\n",
      "File \u001b[0;32m/Users/olumide/Documents/Self Improvement - ML/MLapps/ML_EndtoEnd_Projects/sleep_state_detector/.venv/lib/python3.10/site-packages/joblib/parallel.py:1952\u001b[0m, in \u001b[0;36mParallel.__call__\u001b[0;34m(self, iterable)\u001b[0m\n\u001b[1;32m   1946\u001b[0m \u001b[39m# The first item from the output is blank, but it makes the interpreter\u001b[39;00m\n\u001b[1;32m   1947\u001b[0m \u001b[39m# progress until it enters the Try/Except block of the generator and\u001b[39;00m\n\u001b[1;32m   1948\u001b[0m \u001b[39m# reach the first `yield` statement. This starts the aynchronous\u001b[39;00m\n\u001b[1;32m   1949\u001b[0m \u001b[39m# dispatch of the tasks to the workers.\u001b[39;00m\n\u001b[1;32m   1950\u001b[0m \u001b[39mnext\u001b[39m(output)\n\u001b[0;32m-> 1952\u001b[0m \u001b[39mreturn\u001b[39;00m output \u001b[39mif\u001b[39;00m \u001b[39mself\u001b[39m\u001b[39m.\u001b[39mreturn_generator \u001b[39melse\u001b[39;00m \u001b[39mlist\u001b[39;49m(output)\n",
      "File \u001b[0;32m/Users/olumide/Documents/Self Improvement - ML/MLapps/ML_EndtoEnd_Projects/sleep_state_detector/.venv/lib/python3.10/site-packages/joblib/parallel.py:1595\u001b[0m, in \u001b[0;36mParallel._get_outputs\u001b[0;34m(self, iterator, pre_dispatch)\u001b[0m\n\u001b[1;32m   1592\u001b[0m     \u001b[39myield\u001b[39;00m\n\u001b[1;32m   1594\u001b[0m     \u001b[39mwith\u001b[39;00m \u001b[39mself\u001b[39m\u001b[39m.\u001b[39m_backend\u001b[39m.\u001b[39mretrieval_context():\n\u001b[0;32m-> 1595\u001b[0m         \u001b[39myield from\u001b[39;00m \u001b[39mself\u001b[39m\u001b[39m.\u001b[39m_retrieve()\n\u001b[1;32m   1597\u001b[0m \u001b[39mexcept\u001b[39;00m \u001b[39mGeneratorExit\u001b[39;00m:\n\u001b[1;32m   1598\u001b[0m     \u001b[39m# The generator has been garbage collected before being fully\u001b[39;00m\n\u001b[1;32m   1599\u001b[0m     \u001b[39m# consumed. This aborts the remaining tasks if possible and warn\u001b[39;00m\n\u001b[1;32m   1600\u001b[0m     \u001b[39m# the user if necessary.\u001b[39;00m\n\u001b[1;32m   1601\u001b[0m     \u001b[39mself\u001b[39m\u001b[39m.\u001b[39m_exception \u001b[39m=\u001b[39m \u001b[39mTrue\u001b[39;00m\n",
      "File \u001b[0;32m/Users/olumide/Documents/Self Improvement - ML/MLapps/ML_EndtoEnd_Projects/sleep_state_detector/.venv/lib/python3.10/site-packages/joblib/parallel.py:1699\u001b[0m, in \u001b[0;36mParallel._retrieve\u001b[0;34m(self)\u001b[0m\n\u001b[1;32m   1692\u001b[0m \u001b[39mwhile\u001b[39;00m \u001b[39mself\u001b[39m\u001b[39m.\u001b[39m_wait_retrieval():\n\u001b[1;32m   1693\u001b[0m \n\u001b[1;32m   1694\u001b[0m     \u001b[39m# If the callback thread of a worker has signaled that its task\u001b[39;00m\n\u001b[1;32m   1695\u001b[0m     \u001b[39m# triggered an exception, or if the retrieval loop has raised an\u001b[39;00m\n\u001b[1;32m   1696\u001b[0m     \u001b[39m# exception (e.g. `GeneratorExit`), exit the loop and surface the\u001b[39;00m\n\u001b[1;32m   1697\u001b[0m     \u001b[39m# worker traceback.\u001b[39;00m\n\u001b[1;32m   1698\u001b[0m     \u001b[39mif\u001b[39;00m \u001b[39mself\u001b[39m\u001b[39m.\u001b[39m_aborting:\n\u001b[0;32m-> 1699\u001b[0m         \u001b[39mself\u001b[39;49m\u001b[39m.\u001b[39;49m_raise_error_fast()\n\u001b[1;32m   1700\u001b[0m         \u001b[39mbreak\u001b[39;00m\n\u001b[1;32m   1702\u001b[0m     \u001b[39m# If the next job is not ready for retrieval yet, we just wait for\u001b[39;00m\n\u001b[1;32m   1703\u001b[0m     \u001b[39m# async callbacks to progress.\u001b[39;00m\n",
      "File \u001b[0;32m/Users/olumide/Documents/Self Improvement - ML/MLapps/ML_EndtoEnd_Projects/sleep_state_detector/.venv/lib/python3.10/site-packages/joblib/parallel.py:1734\u001b[0m, in \u001b[0;36mParallel._raise_error_fast\u001b[0;34m(self)\u001b[0m\n\u001b[1;32m   1730\u001b[0m \u001b[39m# If this error job exists, immediatly raise the error by\u001b[39;00m\n\u001b[1;32m   1731\u001b[0m \u001b[39m# calling get_result. This job might not exists if abort has been\u001b[39;00m\n\u001b[1;32m   1732\u001b[0m \u001b[39m# called directly or if the generator is gc'ed.\u001b[39;00m\n\u001b[1;32m   1733\u001b[0m \u001b[39mif\u001b[39;00m error_job \u001b[39mis\u001b[39;00m \u001b[39mnot\u001b[39;00m \u001b[39mNone\u001b[39;00m:\n\u001b[0;32m-> 1734\u001b[0m     error_job\u001b[39m.\u001b[39;49mget_result(\u001b[39mself\u001b[39;49m\u001b[39m.\u001b[39;49mtimeout)\n",
      "File \u001b[0;32m/Users/olumide/Documents/Self Improvement - ML/MLapps/ML_EndtoEnd_Projects/sleep_state_detector/.venv/lib/python3.10/site-packages/joblib/parallel.py:736\u001b[0m, in \u001b[0;36mBatchCompletionCallBack.get_result\u001b[0;34m(self, timeout)\u001b[0m\n\u001b[1;32m    730\u001b[0m backend \u001b[39m=\u001b[39m \u001b[39mself\u001b[39m\u001b[39m.\u001b[39mparallel\u001b[39m.\u001b[39m_backend\n\u001b[1;32m    732\u001b[0m \u001b[39mif\u001b[39;00m backend\u001b[39m.\u001b[39msupports_retrieve_callback:\n\u001b[1;32m    733\u001b[0m     \u001b[39m# We assume that the result has already been retrieved by the\u001b[39;00m\n\u001b[1;32m    734\u001b[0m     \u001b[39m# callback thread, and is stored internally. It's just waiting to\u001b[39;00m\n\u001b[1;32m    735\u001b[0m     \u001b[39m# be returned.\u001b[39;00m\n\u001b[0;32m--> 736\u001b[0m     \u001b[39mreturn\u001b[39;00m \u001b[39mself\u001b[39;49m\u001b[39m.\u001b[39;49m_return_or_raise()\n\u001b[1;32m    738\u001b[0m \u001b[39m# For other backends, the main thread needs to run the retrieval step.\u001b[39;00m\n\u001b[1;32m    739\u001b[0m \u001b[39mtry\u001b[39;00m:\n",
      "File \u001b[0;32m/Users/olumide/Documents/Self Improvement - ML/MLapps/ML_EndtoEnd_Projects/sleep_state_detector/.venv/lib/python3.10/site-packages/joblib/parallel.py:754\u001b[0m, in \u001b[0;36mBatchCompletionCallBack._return_or_raise\u001b[0;34m(self)\u001b[0m\n\u001b[1;32m    752\u001b[0m \u001b[39mtry\u001b[39;00m:\n\u001b[1;32m    753\u001b[0m     \u001b[39mif\u001b[39;00m \u001b[39mself\u001b[39m\u001b[39m.\u001b[39mstatus \u001b[39m==\u001b[39m TASK_ERROR:\n\u001b[0;32m--> 754\u001b[0m         \u001b[39mraise\u001b[39;00m \u001b[39mself\u001b[39m\u001b[39m.\u001b[39m_result\n\u001b[1;32m    755\u001b[0m     \u001b[39mreturn\u001b[39;00m \u001b[39mself\u001b[39m\u001b[39m.\u001b[39m_result\n\u001b[1;32m    756\u001b[0m \u001b[39mfinally\u001b[39;00m:\n",
      "\u001b[0;31mKeyError\u001b[0m: 'awake'"
     ]
    }
   ],
   "source": [
    "%%time\n",
    "\n",
    "train = Parallel(n_jobs=6)(delayed(feat_eng_by_id)(i) for i in series_id)\n",
    "train = pd.concat(train, ignore_index=True)"
   ]
  },
  {
   "cell_type": "code",
   "execution_count": 8,
   "id": "cceec0a6",
   "metadata": {
    "execution": {
     "iopub.execute_input": "2023-10-10T08:37:28.402676Z",
     "iopub.status.busy": "2023-10-10T08:37:28.402342Z",
     "iopub.status.idle": "2023-10-10T08:37:28.406858Z",
     "shell.execute_reply": "2023-10-10T08:37:28.405925Z"
    },
    "papermill": {
     "duration": 0.012568,
     "end_time": "2023-10-10T08:37:28.408944",
     "exception": false,
     "start_time": "2023-10-10T08:37:28.396376",
     "status": "completed"
    },
    "tags": []
   },
   "outputs": [],
   "source": [
    "# REDUCE train data by half\n",
    "train = train.iloc[::60]"
   ]
  },
  {
   "cell_type": "code",
   "execution_count": 9,
   "id": "5a10b239",
   "metadata": {
    "execution": {
     "iopub.execute_input": "2023-10-10T08:37:28.420128Z",
     "iopub.status.busy": "2023-10-10T08:37:28.419429Z",
     "iopub.status.idle": "2023-10-10T08:37:28.718659Z",
     "shell.execute_reply": "2023-10-10T08:37:28.718030Z"
    },
    "papermill": {
     "duration": 0.306775,
     "end_time": "2023-10-10T08:37:28.720565",
     "exception": false,
     "start_time": "2023-10-10T08:37:28.413790",
     "status": "completed"
    },
    "tags": []
   },
   "outputs": [
    {
     "data": {
      "text/plain": [
       "0"
      ]
     },
     "execution_count": 9,
     "metadata": {},
     "output_type": "execute_result"
    }
   ],
   "source": [
    "drop_cols = ['series_id', 'step', 'timestamp']\n",
    "\n",
    "X, y = train.drop(columns=drop_cols+['awake']), train['awake']\n",
    "\n",
    "gc.collect()"
   ]
  },
  {
   "cell_type": "code",
   "execution_count": 10,
   "id": "36db08f0",
   "metadata": {
    "execution": {
     "iopub.execute_input": "2023-10-10T08:37:28.732336Z",
     "iopub.status.busy": "2023-10-10T08:37:28.731541Z",
     "iopub.status.idle": "2023-10-10T08:37:28.905799Z",
     "shell.execute_reply": "2023-10-10T08:37:28.904683Z"
    },
    "papermill": {
     "duration": 0.182438,
     "end_time": "2023-10-10T08:37:28.908204",
     "exception": false,
     "start_time": "2023-10-10T08:37:28.725766",
     "status": "completed"
    },
    "tags": []
   },
   "outputs": [],
   "source": [
    "if not DEV:\n",
    "    del train\n",
    "    gc.collect()"
   ]
  },
  {
   "cell_type": "code",
   "execution_count": 11,
   "id": "26cd8d5d",
   "metadata": {
    "execution": {
     "iopub.execute_input": "2023-10-10T08:37:28.921111Z",
     "iopub.status.busy": "2023-10-10T08:37:28.920779Z",
     "iopub.status.idle": "2023-10-10T08:37:28.928659Z",
     "shell.execute_reply": "2023-10-10T08:37:28.927790Z"
    },
    "papermill": {
     "duration": 0.01667,
     "end_time": "2023-10-10T08:37:28.930461",
     "exception": false,
     "start_time": "2023-10-10T08:37:28.913791",
     "status": "completed"
    },
    "tags": []
   },
   "outputs": [],
   "source": [
    "class EnsembleAvgProba():\n",
    "    \n",
    "    def __init__(self, classifiers):\n",
    "        \n",
    "        self.classifiers = classifiers\n",
    "    \n",
    "    def fit(self,X,y):\n",
    "        \n",
    "        for classifier in self.classifiers:                \n",
    "            classifier.fit(X, y)\n",
    "            gc.collect()\n",
    "     \n",
    "    def predict_proba(self, X):\n",
    "        \n",
    "        probs = []\n",
    "        \n",
    "        for m in self.classifiers:\n",
    "            probs.append(m.predict_proba(X))\n",
    "        \n",
    "        probabilities = np.stack(probs)\n",
    "        p = np.mean(probabilities, axis=0)\n",
    "        \n",
    "        return p \n",
    "    \n",
    "    def predict(self, X):\n",
    "        \n",
    "        probs = []\n",
    "        \n",
    "        for m in self.classifiers:\n",
    "            probs.append(m.predict(X))\n",
    "        \n",
    "        probabilities = np.stack(probs)\n",
    "        p = np.mean(probabilities, axis=0)\n",
    "        \n",
    "        return p.round()"
   ]
  },
  {
   "cell_type": "code",
   "execution_count": 12,
   "id": "455a7517",
   "metadata": {
    "execution": {
     "iopub.execute_input": "2023-10-10T08:37:28.942691Z",
     "iopub.status.busy": "2023-10-10T08:37:28.942063Z",
     "iopub.status.idle": "2023-10-10T08:37:29.122520Z",
     "shell.execute_reply": "2023-10-10T08:37:29.121441Z"
    },
    "papermill": {
     "duration": 0.189124,
     "end_time": "2023-10-10T08:37:29.124936",
     "exception": false,
     "start_time": "2023-10-10T08:37:28.935812",
     "status": "completed"
    },
    "tags": []
   },
   "outputs": [],
   "source": [
    "lgb_params1 = {    \n",
    "    'boosting_type':'gbdt',\n",
    "    'num_leaves':31,\n",
    "    'max_depth':6,\n",
    "    'learning_rate':0.03,\n",
    "    'n_estimators':850,\n",
    "    'subsample_for_bin':200000,\n",
    "    'min_child_weight':0.001,\n",
    "    'min_child_samples':20,\n",
    "    'subsample':0.9,\n",
    "#     'colsample_bytree':0.7,\n",
    "    'reg_alpha':0.05,\n",
    "    'reg_lambda':0.05,\n",
    "             }\n",
    "import xgboost as xgb\n",
    "\n",
    "\n",
    "# Training classifier\n",
    "\n",
    "model = EnsembleAvgProba(classifiers=[\n",
    "                    lgb.LGBMClassifier(random_state=42, **lgb_params1),\n",
    "                    GradientBoostingClassifier(n_estimators=100,max_depth=5,min_samples_leaf=300,random_state=42),\n",
    "                    RandomForestClassifier(n_estimators=500, min_samples_leaf=300, random_state=42, n_jobs=-1),\n",
    "                    xgb.XGBClassifier(n_estimators=520,objective=\"binary:logistic\", learning_rate=0.02, max_depth=7, random_state=42)    ]\n",
    "                )"
   ]
  },
  {
   "cell_type": "code",
   "execution_count": 13,
   "id": "488b51fe",
   "metadata": {
    "execution": {
     "iopub.execute_input": "2023-10-10T08:37:29.137361Z",
     "iopub.status.busy": "2023-10-10T08:37:29.136584Z",
     "iopub.status.idle": "2023-10-10T09:11:24.430712Z",
     "shell.execute_reply": "2023-10-10T09:11:24.429779Z"
    },
    "papermill": {
     "duration": 2035.303653,
     "end_time": "2023-10-10T09:11:24.434399",
     "exception": false,
     "start_time": "2023-10-10T08:37:29.130746",
     "status": "completed"
    },
    "tags": []
   },
   "outputs": [
    {
     "name": "stdout",
     "output_type": "stream",
     "text": [
      "CPU times: user 35min 14s, sys: 4.16 s, total: 35min 18s\n",
      "Wall time: 33min 55s\n"
     ]
    }
   ],
   "source": [
    "%%time\n",
    "\n",
    "model.fit(X, y)"
   ]
  },
  {
   "cell_type": "code",
   "execution_count": 14,
   "id": "7adb350d",
   "metadata": {
    "execution": {
     "iopub.execute_input": "2023-10-10T09:11:24.446259Z",
     "iopub.status.busy": "2023-10-10T09:11:24.445924Z",
     "iopub.status.idle": "2023-10-10T09:11:24.476034Z",
     "shell.execute_reply": "2023-10-10T09:11:24.475307Z"
    },
    "papermill": {
     "duration": 0.038462,
     "end_time": "2023-10-10T09:11:24.478059",
     "exception": false,
     "start_time": "2023-10-10T09:11:24.439597",
     "status": "completed"
    },
    "tags": []
   },
   "outputs": [],
   "source": [
    "feats = []\n",
    "\n",
    "feat_imp = model.classifiers[0].booster_.feature_importance(importance_type='gain')\n",
    "feat_imp = pd.Series(model.classifiers[0].feature_importances_, index=X.columns).sort_values()\n",
    "feats.append(feat_imp)\n",
    "\n",
    "for m in model.classifiers[1:]:\n",
    "    feat_imp = pd.Series(m.feature_importances_, index=X.columns).sort_values()\n",
    "    feats.append(feat_imp)"
   ]
  },
  {
   "cell_type": "code",
   "execution_count": 15,
   "id": "97548951",
   "metadata": {
    "execution": {
     "iopub.execute_input": "2023-10-10T09:11:24.490042Z",
     "iopub.status.busy": "2023-10-10T09:11:24.489785Z",
     "iopub.status.idle": "2023-10-10T09:11:26.015326Z",
     "shell.execute_reply": "2023-10-10T09:11:26.014569Z"
    },
    "papermill": {
     "duration": 1.533709,
     "end_time": "2023-10-10T09:11:26.017257",
     "exception": false,
     "start_time": "2023-10-10T09:11:24.483548",
     "status": "completed"
    },
    "tags": []
   },
   "outputs": [
    {
     "name": "stdout",
     "output_type": "stream",
     "text": [
      "Columns with poor contribution\n",
      "Index(['anglezdiffabs_min_720'], dtype='object')\n"
     ]
    },
    {
     "data": {
      "text/html": [
       "        <script type=\"text/javascript\">\n",
       "        window.PlotlyConfig = {MathJaxConfig: 'local'};\n",
       "        if (window.MathJax && window.MathJax.Hub && window.MathJax.Hub.Config) {window.MathJax.Hub.Config({SVG: {font: \"STIX-Web\"}});}\n",
       "        if (typeof require !== 'undefined') {\n",
       "        require.undef(\"plotly\");\n",
       "        requirejs.config({\n",
       "            paths: {\n",
       "                'plotly': ['https://cdn.plot.ly/plotly-2.24.1.min']\n",
       "            }\n",
       "        });\n",
       "        require(['plotly'], function(Plotly) {\n",
       "            window._Plotly = Plotly;\n",
       "        });\n",
       "        }\n",
       "        </script>\n",
       "        "
      ]
     },
     "metadata": {},
     "output_type": "display_data"
    },
    {
     "data": {
      "text/html": [
       "<div>                            <div id=\"8c15971b-bb00-4ee9-bb80-f4f59ff0f7c6\" class=\"plotly-graph-div\" style=\"height:525px; width:100%;\"></div>            <script type=\"text/javascript\">                require([\"plotly\"], function(Plotly) {                    window.PLOTLYENV=window.PLOTLYENV || {};                                    if (document.getElementById(\"8c15971b-bb00-4ee9-bb80-f4f59ff0f7c6\")) {                    Plotly.newPlot(                        \"8c15971b-bb00-4ee9-bb80-f4f59ff0f7c6\",                        [{\"alignmentgroup\":\"True\",\"hovertemplate\":\"x=%{x}\\u003cbr\\u003ey=%{y}\\u003cextra\\u003e\\u003c\\u002fextra\\u003e\",\"legendgroup\":\"\",\"marker\":{\"color\":\"#636efa\",\"pattern\":{\"shape\":\"\"}},\"name\":\"\",\"offsetgroup\":\"\",\"orientation\":\"h\",\"showlegend\":false,\"textposition\":\"auto\",\"x\":[0.0,2.5000235634303944,2.5001694372735166,4.000082057756601,4.003163423394181,4.750230044199193,5.252564387287109,12.010220814866724,12.75062218089625,13.252821022559758,14.755183602673714,15.012414655946666,15.50230972351992,20.520519671750485,21.250448962251973,22.00014165455808,22.50040739363332,23.250066491284745,23.7501311974658,24.250202279701575,25.002578140527586,25.500205920490355,25.502530149607903,27.0001162932192,27.00015167342096,27.253589252715457,28.750110549463738,30.500344446755626,32.00039410905517,33.00135584370086,33.261642811557955,35.50047555221693,35.750119421824536,36.75015227144663,37.00023329549768,38.50009702092553,40.25017089306711,40.78031752523991,41.25015530681692,41.50020138959597,42.50573319773991,43.25007938862584,43.25100971150831,44.00011331405616,45.00017401311681,46.75712195514006,47.25021837918219,48.50018499733944,49.014255124791326,49.50092441283621,51.750679957389856,53.50012643753714,54.25014138418471,55.50027432906181,55.75085865185929,56.250286961932545,56.50038396626111,57.25070372269356,58.98512922390666,59.267338207079575,59.7501635550879,62.000145468851244,68.50040625207835,68.50042631137667,75.50073051714324,76.00031708224114,78.50464266489813,87.50041580834774,92.25013742739726,97.50146249180554,99.2505429341787,101.75071224818282,106.5001334923857,107.50046327059857,109.75029103807954,110.5010489977385,111.75116134273786,122.52602509878318,132.00017343152862,154.00050843253044,158.5025893077929,161.7503065948305,166.00088006957904,166.75116797288058,172.76891927260579,178.75049756743135,209.50055121601986,425.7627076497913,640.0200707176527],\"xaxis\":\"x\",\"y\":[\"anglezdiffabs_min_720\",\"anglezdiffabs_min_360\",\"anglezdiffabs_amplit_360\",\"anglezdiffabs_min_60\",\"anglezdiffabs_amplit_60\",\"anglezdiffabs_amplit_720\",\"anglezdiffabs_max_60\",\"anglezdiffabs_median_60\",\"anglezdiffabs\",\"anglezdiffabs_var_60\",\"anglez_amplit_60\",\"anglezdiffabs_amplit_60_min\",\"enmo_amplit_60\",\"anglezdiffabs_median_360\",\"anglez_diff_60_mean\",\"enmo_diff_60_mean\",\"enmo_amplit_360\",\"anglez_diff_60_max\",\"enmo_max_60\",\"anglezdiffabs_max_360\",\"anglezdiffabs_mean_60\",\"anglezdiffabs_var_360\",\"anglez_var_60\",\"anglezdiffabs_diff_60_max\",\"enmo_median_60\",\"anglezdiffabs_amplit_360_min\",\"anglezdiffabs_diff_60_mean\",\"anglez_median_60\",\"anglez_mean_60\",\"enmo_var_60\",\"anglez_amplit_60_min\",\"anglez\",\"enmo\",\"anglez_amplit_360\",\"enmo_median_360\",\"anglez_diff_360_max\",\"anglez_var_360\",\"anglezdiffabs_median_720\",\"enmo_diff_360_mean\",\"enmo_min_360\",\"anglez_amplit_360_min\",\"anglez_diff_360_mean\",\"enmo_diff_60_max\",\"anglezdiffabs_diff_360_mean\",\"enmo_mean_60\",\"anglezdiffabs_mean_360\",\"enmo_min_60\",\"enmo_max_360\",\"enmo_amplit_60_min\",\"anglez_min_60\",\"enmo_amplit_720\",\"anglezdiffabs_diff_360_max\",\"enmo_diff_360_max\",\"anglez_max_360\",\"enmo_var_360\",\"anglez_max_60\",\"anglez_mean_360\",\"anglez_median_360\",\"anglezdiffabs_mad_720\",\"enmo_mad_720\",\"enmo_min_720\",\"anglez_amplit_720\",\"enmo_max_720\",\"anglez_mean_720\",\"enmo_median_720\",\"enmo_mean_360\",\"enmo_amplit_360_min\",\"anglez_min_360\",\"anglez_diff_720_mean\",\"anglezdiffabs_amplit_720_min\",\"anglezdiffabs_max_720\",\"enmo_var_720\",\"anglez_diff_720_max\",\"anglezdiffabs_var_720\",\"anglez_var_720\",\"anglez_median_720\",\"anglez_amplit_720_min\",\"anglez_mad_720\",\"anglezdiffabs_diff_720_mean\",\"enmo_diff_720_max\",\"enmo_amplit_720_min\",\"anglez_max_720\",\"enmo_mean_720\",\"enmo_diff_720_mean\",\"anglezdiffabs_mean_720\",\"anglezdiffabs_diff_720_max\",\"anglez_min_720\",\"lids\",\"hour\"],\"yaxis\":\"y\",\"type\":\"bar\"}],                        {\"template\":{\"data\":{\"histogram2dcontour\":[{\"type\":\"histogram2dcontour\",\"colorbar\":{\"outlinewidth\":0,\"ticks\":\"\"},\"colorscale\":[[0.0,\"#0d0887\"],[0.1111111111111111,\"#46039f\"],[0.2222222222222222,\"#7201a8\"],[0.3333333333333333,\"#9c179e\"],[0.4444444444444444,\"#bd3786\"],[0.5555555555555556,\"#d8576b\"],[0.6666666666666666,\"#ed7953\"],[0.7777777777777778,\"#fb9f3a\"],[0.8888888888888888,\"#fdca26\"],[1.0,\"#f0f921\"]]}],\"choropleth\":[{\"type\":\"choropleth\",\"colorbar\":{\"outlinewidth\":0,\"ticks\":\"\"}}],\"histogram2d\":[{\"type\":\"histogram2d\",\"colorbar\":{\"outlinewidth\":0,\"ticks\":\"\"},\"colorscale\":[[0.0,\"#0d0887\"],[0.1111111111111111,\"#46039f\"],[0.2222222222222222,\"#7201a8\"],[0.3333333333333333,\"#9c179e\"],[0.4444444444444444,\"#bd3786\"],[0.5555555555555556,\"#d8576b\"],[0.6666666666666666,\"#ed7953\"],[0.7777777777777778,\"#fb9f3a\"],[0.8888888888888888,\"#fdca26\"],[1.0,\"#f0f921\"]]}],\"heatmap\":[{\"type\":\"heatmap\",\"colorbar\":{\"outlinewidth\":0,\"ticks\":\"\"},\"colorscale\":[[0.0,\"#0d0887\"],[0.1111111111111111,\"#46039f\"],[0.2222222222222222,\"#7201a8\"],[0.3333333333333333,\"#9c179e\"],[0.4444444444444444,\"#bd3786\"],[0.5555555555555556,\"#d8576b\"],[0.6666666666666666,\"#ed7953\"],[0.7777777777777778,\"#fb9f3a\"],[0.8888888888888888,\"#fdca26\"],[1.0,\"#f0f921\"]]}],\"heatmapgl\":[{\"type\":\"heatmapgl\",\"colorbar\":{\"outlinewidth\":0,\"ticks\":\"\"},\"colorscale\":[[0.0,\"#0d0887\"],[0.1111111111111111,\"#46039f\"],[0.2222222222222222,\"#7201a8\"],[0.3333333333333333,\"#9c179e\"],[0.4444444444444444,\"#bd3786\"],[0.5555555555555556,\"#d8576b\"],[0.6666666666666666,\"#ed7953\"],[0.7777777777777778,\"#fb9f3a\"],[0.8888888888888888,\"#fdca26\"],[1.0,\"#f0f921\"]]}],\"contourcarpet\":[{\"type\":\"contourcarpet\",\"colorbar\":{\"outlinewidth\":0,\"ticks\":\"\"}}],\"contour\":[{\"type\":\"contour\",\"colorbar\":{\"outlinewidth\":0,\"ticks\":\"\"},\"colorscale\":[[0.0,\"#0d0887\"],[0.1111111111111111,\"#46039f\"],[0.2222222222222222,\"#7201a8\"],[0.3333333333333333,\"#9c179e\"],[0.4444444444444444,\"#bd3786\"],[0.5555555555555556,\"#d8576b\"],[0.6666666666666666,\"#ed7953\"],[0.7777777777777778,\"#fb9f3a\"],[0.8888888888888888,\"#fdca26\"],[1.0,\"#f0f921\"]]}],\"surface\":[{\"type\":\"surface\",\"colorbar\":{\"outlinewidth\":0,\"ticks\":\"\"},\"colorscale\":[[0.0,\"#0d0887\"],[0.1111111111111111,\"#46039f\"],[0.2222222222222222,\"#7201a8\"],[0.3333333333333333,\"#9c179e\"],[0.4444444444444444,\"#bd3786\"],[0.5555555555555556,\"#d8576b\"],[0.6666666666666666,\"#ed7953\"],[0.7777777777777778,\"#fb9f3a\"],[0.8888888888888888,\"#fdca26\"],[1.0,\"#f0f921\"]]}],\"mesh3d\":[{\"type\":\"mesh3d\",\"colorbar\":{\"outlinewidth\":0,\"ticks\":\"\"}}],\"scatter\":[{\"fillpattern\":{\"fillmode\":\"overlay\",\"size\":10,\"solidity\":0.2},\"type\":\"scatter\"}],\"parcoords\":[{\"type\":\"parcoords\",\"line\":{\"colorbar\":{\"outlinewidth\":0,\"ticks\":\"\"}}}],\"scatterpolargl\":[{\"type\":\"scatterpolargl\",\"marker\":{\"colorbar\":{\"outlinewidth\":0,\"ticks\":\"\"}}}],\"bar\":[{\"error_x\":{\"color\":\"#2a3f5f\"},\"error_y\":{\"color\":\"#2a3f5f\"},\"marker\":{\"line\":{\"color\":\"#E5ECF6\",\"width\":0.5},\"pattern\":{\"fillmode\":\"overlay\",\"size\":10,\"solidity\":0.2}},\"type\":\"bar\"}],\"scattergeo\":[{\"type\":\"scattergeo\",\"marker\":{\"colorbar\":{\"outlinewidth\":0,\"ticks\":\"\"}}}],\"scatterpolar\":[{\"type\":\"scatterpolar\",\"marker\":{\"colorbar\":{\"outlinewidth\":0,\"ticks\":\"\"}}}],\"histogram\":[{\"marker\":{\"pattern\":{\"fillmode\":\"overlay\",\"size\":10,\"solidity\":0.2}},\"type\":\"histogram\"}],\"scattergl\":[{\"type\":\"scattergl\",\"marker\":{\"colorbar\":{\"outlinewidth\":0,\"ticks\":\"\"}}}],\"scatter3d\":[{\"type\":\"scatter3d\",\"line\":{\"colorbar\":{\"outlinewidth\":0,\"ticks\":\"\"}},\"marker\":{\"colorbar\":{\"outlinewidth\":0,\"ticks\":\"\"}}}],\"scattermapbox\":[{\"type\":\"scattermapbox\",\"marker\":{\"colorbar\":{\"outlinewidth\":0,\"ticks\":\"\"}}}],\"scatterternary\":[{\"type\":\"scatterternary\",\"marker\":{\"colorbar\":{\"outlinewidth\":0,\"ticks\":\"\"}}}],\"scattercarpet\":[{\"type\":\"scattercarpet\",\"marker\":{\"colorbar\":{\"outlinewidth\":0,\"ticks\":\"\"}}}],\"carpet\":[{\"aaxis\":{\"endlinecolor\":\"#2a3f5f\",\"gridcolor\":\"white\",\"linecolor\":\"white\",\"minorgridcolor\":\"white\",\"startlinecolor\":\"#2a3f5f\"},\"baxis\":{\"endlinecolor\":\"#2a3f5f\",\"gridcolor\":\"white\",\"linecolor\":\"white\",\"minorgridcolor\":\"white\",\"startlinecolor\":\"#2a3f5f\"},\"type\":\"carpet\"}],\"table\":[{\"cells\":{\"fill\":{\"color\":\"#EBF0F8\"},\"line\":{\"color\":\"white\"}},\"header\":{\"fill\":{\"color\":\"#C8D4E3\"},\"line\":{\"color\":\"white\"}},\"type\":\"table\"}],\"barpolar\":[{\"marker\":{\"line\":{\"color\":\"#E5ECF6\",\"width\":0.5},\"pattern\":{\"fillmode\":\"overlay\",\"size\":10,\"solidity\":0.2}},\"type\":\"barpolar\"}],\"pie\":[{\"automargin\":true,\"type\":\"pie\"}]},\"layout\":{\"autotypenumbers\":\"strict\",\"colorway\":[\"#636efa\",\"#EF553B\",\"#00cc96\",\"#ab63fa\",\"#FFA15A\",\"#19d3f3\",\"#FF6692\",\"#B6E880\",\"#FF97FF\",\"#FECB52\"],\"font\":{\"color\":\"#2a3f5f\"},\"hovermode\":\"closest\",\"hoverlabel\":{\"align\":\"left\"},\"paper_bgcolor\":\"white\",\"plot_bgcolor\":\"#E5ECF6\",\"polar\":{\"bgcolor\":\"#E5ECF6\",\"angularaxis\":{\"gridcolor\":\"white\",\"linecolor\":\"white\",\"ticks\":\"\"},\"radialaxis\":{\"gridcolor\":\"white\",\"linecolor\":\"white\",\"ticks\":\"\"}},\"ternary\":{\"bgcolor\":\"#E5ECF6\",\"aaxis\":{\"gridcolor\":\"white\",\"linecolor\":\"white\",\"ticks\":\"\"},\"baxis\":{\"gridcolor\":\"white\",\"linecolor\":\"white\",\"ticks\":\"\"},\"caxis\":{\"gridcolor\":\"white\",\"linecolor\":\"white\",\"ticks\":\"\"}},\"coloraxis\":{\"colorbar\":{\"outlinewidth\":0,\"ticks\":\"\"}},\"colorscale\":{\"sequential\":[[0.0,\"#0d0887\"],[0.1111111111111111,\"#46039f\"],[0.2222222222222222,\"#7201a8\"],[0.3333333333333333,\"#9c179e\"],[0.4444444444444444,\"#bd3786\"],[0.5555555555555556,\"#d8576b\"],[0.6666666666666666,\"#ed7953\"],[0.7777777777777778,\"#fb9f3a\"],[0.8888888888888888,\"#fdca26\"],[1.0,\"#f0f921\"]],\"sequentialminus\":[[0.0,\"#0d0887\"],[0.1111111111111111,\"#46039f\"],[0.2222222222222222,\"#7201a8\"],[0.3333333333333333,\"#9c179e\"],[0.4444444444444444,\"#bd3786\"],[0.5555555555555556,\"#d8576b\"],[0.6666666666666666,\"#ed7953\"],[0.7777777777777778,\"#fb9f3a\"],[0.8888888888888888,\"#fdca26\"],[1.0,\"#f0f921\"]],\"diverging\":[[0,\"#8e0152\"],[0.1,\"#c51b7d\"],[0.2,\"#de77ae\"],[0.3,\"#f1b6da\"],[0.4,\"#fde0ef\"],[0.5,\"#f7f7f7\"],[0.6,\"#e6f5d0\"],[0.7,\"#b8e186\"],[0.8,\"#7fbc41\"],[0.9,\"#4d9221\"],[1,\"#276419\"]]},\"xaxis\":{\"gridcolor\":\"white\",\"linecolor\":\"white\",\"ticks\":\"\",\"title\":{\"standoff\":15},\"zerolinecolor\":\"white\",\"automargin\":true,\"zerolinewidth\":2},\"yaxis\":{\"gridcolor\":\"white\",\"linecolor\":\"white\",\"ticks\":\"\",\"title\":{\"standoff\":15},\"zerolinecolor\":\"white\",\"automargin\":true,\"zerolinewidth\":2},\"scene\":{\"xaxis\":{\"backgroundcolor\":\"#E5ECF6\",\"gridcolor\":\"white\",\"linecolor\":\"white\",\"showbackground\":true,\"ticks\":\"\",\"zerolinecolor\":\"white\",\"gridwidth\":2},\"yaxis\":{\"backgroundcolor\":\"#E5ECF6\",\"gridcolor\":\"white\",\"linecolor\":\"white\",\"showbackground\":true,\"ticks\":\"\",\"zerolinecolor\":\"white\",\"gridwidth\":2},\"zaxis\":{\"backgroundcolor\":\"#E5ECF6\",\"gridcolor\":\"white\",\"linecolor\":\"white\",\"showbackground\":true,\"ticks\":\"\",\"zerolinecolor\":\"white\",\"gridwidth\":2}},\"shapedefaults\":{\"line\":{\"color\":\"#2a3f5f\"}},\"annotationdefaults\":{\"arrowcolor\":\"#2a3f5f\",\"arrowhead\":0,\"arrowwidth\":1},\"geo\":{\"bgcolor\":\"white\",\"landcolor\":\"#E5ECF6\",\"subunitcolor\":\"white\",\"showland\":true,\"showlakes\":true,\"lakecolor\":\"white\"},\"title\":{\"x\":0.05},\"mapbox\":{\"style\":\"light\"}}},\"xaxis\":{\"anchor\":\"y\",\"domain\":[0.0,1.0],\"title\":{\"text\":\"x\"}},\"yaxis\":{\"anchor\":\"x\",\"domain\":[0.0,1.0],\"title\":{\"text\":\"y\"}},\"legend\":{\"tracegroupgap\":0},\"margin\":{\"t\":60},\"barmode\":\"relative\"},                        {\"responsive\": true}                    ).then(function(){\n",
       "                            \n",
       "var gd = document.getElementById('8c15971b-bb00-4ee9-bb80-f4f59ff0f7c6');\n",
       "var x = new MutationObserver(function (mutations, observer) {{\n",
       "        var display = window.getComputedStyle(gd).display;\n",
       "        if (!display || display === 'none') {{\n",
       "            console.log([gd, 'removed!']);\n",
       "            Plotly.purge(gd);\n",
       "            observer.disconnect();\n",
       "        }}\n",
       "}});\n",
       "\n",
       "// Listen for the removal of the full notebook cells\n",
       "var notebookContainer = gd.closest('#notebook-container');\n",
       "if (notebookContainer) {{\n",
       "    x.observe(notebookContainer, {childList: true});\n",
       "}}\n",
       "\n",
       "// Listen for the clearing of the current output cell\n",
       "var outputEl = gd.closest('.output');\n",
       "if (outputEl) {{\n",
       "    x.observe(outputEl, {childList: true});\n",
       "}}\n",
       "\n",
       "                        })                };                });            </script>        </div>"
      ]
     },
     "metadata": {},
     "output_type": "display_data"
    }
   ],
   "source": [
    "feat_imp = pd.Series(pd.concat(feats, axis=1).mean(axis=1), index=feats[0].index).sort_values()\n",
    "print('Columns with poor contribution', feat_imp[feat_imp<0.001].index, sep='\\n')\n",
    "fig = px.bar(x=feat_imp, y=feat_imp.index, orientation='h')\n",
    "fig.show()"
   ]
  },
  {
   "cell_type": "code",
   "execution_count": 16,
   "id": "6d9ec6f5",
   "metadata": {
    "execution": {
     "iopub.execute_input": "2023-10-10T09:11:26.030079Z",
     "iopub.status.busy": "2023-10-10T09:11:26.029578Z",
     "iopub.status.idle": "2023-10-10T09:11:26.037214Z",
     "shell.execute_reply": "2023-10-10T09:11:26.036395Z"
    },
    "papermill": {
     "duration": 0.015836,
     "end_time": "2023-10-10T09:11:26.038778",
     "exception": false,
     "start_time": "2023-10-10T09:11:26.022942",
     "status": "completed"
    },
    "tags": []
   },
   "outputs": [
    {
     "data": {
      "text/plain": [
       "anglezdiffabs_min_720        0.000000\n",
       "anglezdiffabs_min_360        2.500024\n",
       "anglezdiffabs_amplit_360     2.500169\n",
       "anglezdiffabs_min_60         4.000082\n",
       "anglezdiffabs_amplit_60      4.003163\n",
       "anglezdiffabs_amplit_720     4.750230\n",
       "anglezdiffabs_max_60         5.252564\n",
       "anglezdiffabs_median_60     12.010221\n",
       "anglezdiffabs               12.750622\n",
       "anglezdiffabs_var_60        13.252821\n",
       "dtype: float64"
      ]
     },
     "execution_count": 16,
     "metadata": {},
     "output_type": "execute_result"
    }
   ],
   "source": [
    "feat_imp.sort_values().head(10)"
   ]
  },
  {
   "cell_type": "code",
   "execution_count": 17,
   "id": "8d65ae15",
   "metadata": {
    "execution": {
     "iopub.execute_input": "2023-10-10T09:11:26.050647Z",
     "iopub.status.busy": "2023-10-10T09:11:26.050408Z",
     "iopub.status.idle": "2023-10-10T09:11:26.172112Z",
     "shell.execute_reply": "2023-10-10T09:11:26.171425Z"
    },
    "papermill": {
     "duration": 0.129968,
     "end_time": "2023-10-10T09:11:26.174069",
     "exception": false,
     "start_time": "2023-10-10T09:11:26.044101",
     "status": "completed"
    },
    "tags": []
   },
   "outputs": [
    {
     "data": {
      "text/plain": [
       "63"
      ]
     },
     "execution_count": 17,
     "metadata": {},
     "output_type": "execute_result"
    }
   ],
   "source": [
    "# del X, y\n",
    "gc.collect()"
   ]
  },
  {
   "cell_type": "code",
   "execution_count": 18,
   "id": "08e7a355",
   "metadata": {
    "execution": {
     "iopub.execute_input": "2023-10-10T09:11:26.186928Z",
     "iopub.status.busy": "2023-10-10T09:11:26.186665Z",
     "iopub.status.idle": "2023-10-10T09:11:26.195409Z",
     "shell.execute_reply": "2023-10-10T09:11:26.194737Z"
    },
    "papermill": {
     "duration": 0.016961,
     "end_time": "2023-10-10T09:11:26.196994",
     "exception": false,
     "start_time": "2023-10-10T09:11:26.180033",
     "status": "completed"
    },
    "tags": []
   },
   "outputs": [],
   "source": [
    "def get_events(idx, classifier, file='test_series.parquet') :\n",
    "    \n",
    "    test  = pd.read_parquet(f'/kaggle/input/child-mind-institute-detect-sleep-states/{file}',\n",
    "                    filters=[('series_id','=',idx)])\n",
    "    test = feat_eng(test)\n",
    "    X_test = test.drop(columns=drop_cols)\n",
    "    test = test[drop_cols]\n",
    "\n",
    "    preds, probs = classifier.predict(X_test), classifier.predict_proba(X_test)[:, 1]\n",
    "    \n",
    "    test['prediction'] = preds\n",
    "    test['prediction'] = test['prediction'].rolling(360+1, center=True).median()\n",
    "    test['probability'] = probs\n",
    "    \n",
    "    test = test[test['prediction']!=2]\n",
    "    \n",
    "    test.loc[test['prediction']==0, 'probability'] = 1-test.loc[test['prediction']==0, 'probability']\n",
    "    test['score'] = test['probability'].rolling(60*12*5, center=True, min_periods=10).mean().bfill().ffill()\n",
    "\n",
    "    \n",
    "    test['pred_diff'] = test['prediction'].diff()\n",
    "    \n",
    "    test['event'] = test['pred_diff'].replace({1:'wakeup', -1:'onset', 0:np.nan})\n",
    "    \n",
    "    test_wakeup = test[test['event']=='wakeup'].groupby(test['timestamp'].dt.date).agg('first')\n",
    "    test_onset = test[test['event']=='onset'].groupby(test['timestamp'].dt.date).agg('last')\n",
    "    test = pd.concat([test_wakeup, test_onset], ignore_index=True).sort_values('timestamp')\n",
    "\n",
    "    return test"
   ]
  },
  {
   "cell_type": "code",
   "execution_count": 19,
   "id": "26d4ec4e",
   "metadata": {
    "execution": {
     "iopub.execute_input": "2023-10-10T09:11:26.208988Z",
     "iopub.status.busy": "2023-10-10T09:11:26.208741Z",
     "iopub.status.idle": "2023-10-10T09:11:43.845140Z",
     "shell.execute_reply": "2023-10-10T09:11:43.844416Z"
    },
    "papermill": {
     "duration": 17.644936,
     "end_time": "2023-10-10T09:11:43.847431",
     "exception": false,
     "start_time": "2023-10-10T09:11:26.202495",
     "status": "completed"
    },
    "tags": []
   },
   "outputs": [],
   "source": [
    "cols_sub = ['series_id','step','event','score']\n",
    "\n",
    "series_id  = pd.read_parquet('/kaggle/input/child-mind-institute-detect-sleep-states/test_series.parquet', columns=['series_id'])\n",
    "series_id = series_id.series_id.unique()\n",
    "\n",
    "tests = []\n",
    "\n",
    "for idx in series_id: \n",
    "\n",
    "    test =  get_events(idx, model)\n",
    "    tests.append(test[cols_sub])"
   ]
  },
  {
   "cell_type": "code",
   "execution_count": 20,
   "id": "4e522ebb",
   "metadata": {
    "execution": {
     "iopub.execute_input": "2023-10-10T09:11:43.860832Z",
     "iopub.status.busy": "2023-10-10T09:11:43.860534Z",
     "iopub.status.idle": "2023-10-10T09:11:43.876437Z",
     "shell.execute_reply": "2023-10-10T09:11:43.875545Z"
    },
    "papermill": {
     "duration": 0.024837,
     "end_time": "2023-10-10T09:11:43.878132",
     "exception": false,
     "start_time": "2023-10-10T09:11:43.853295",
     "status": "completed"
    },
    "tags": []
   },
   "outputs": [
    {
     "data": {
      "text/html": [
       "<div>\n",
       "<style scoped>\n",
       "    .dataframe tbody tr th:only-of-type {\n",
       "        vertical-align: middle;\n",
       "    }\n",
       "\n",
       "    .dataframe tbody tr th {\n",
       "        vertical-align: top;\n",
       "    }\n",
       "\n",
       "    .dataframe thead th {\n",
       "        text-align: right;\n",
       "    }\n",
       "</style>\n",
       "<table border=\"1\" class=\"dataframe\">\n",
       "  <thead>\n",
       "    <tr style=\"text-align: right;\">\n",
       "      <th></th>\n",
       "      <th>row_id</th>\n",
       "      <th>series_id</th>\n",
       "      <th>step</th>\n",
       "      <th>event</th>\n",
       "      <th>score</th>\n",
       "    </tr>\n",
       "  </thead>\n",
       "  <tbody>\n",
       "  </tbody>\n",
       "</table>\n",
       "</div>"
      ],
      "text/plain": [
       "Empty DataFrame\n",
       "Columns: [row_id, series_id, step, event, score]\n",
       "Index: []"
      ]
     },
     "execution_count": 20,
     "metadata": {},
     "output_type": "execute_result"
    }
   ],
   "source": [
    "submission = pd.concat(tests, ignore_index=True).reset_index(names='row_id')\n",
    "submission.to_csv('submission.csv', index=False)\n",
    "submission"
   ]
  }
 ],
 "metadata": {
  "kernelspec": {
   "display_name": "Python 3",
   "language": "python",
   "name": "python3"
  },
  "language_info": {
   "codemirror_mode": {
    "name": "ipython",
    "version": 3
   },
   "file_extension": ".py",
   "mimetype": "text/x-python",
   "name": "python",
   "nbconvert_exporter": "python",
   "pygments_lexer": "ipython3",
   "version": "3.10.9"
  },
  "papermill": {
   "default_parameters": {},
   "duration": 2252.955616,
   "end_time": "2023-10-10T09:11:47.181693",
   "environment_variables": {},
   "exception": null,
   "input_path": "__notebook__.ipynb",
   "output_path": "__notebook__.ipynb",
   "parameters": {},
   "start_time": "2023-10-10T08:34:14.226077",
   "version": "2.4.0"
  }
 },
 "nbformat": 4,
 "nbformat_minor": 5
}
